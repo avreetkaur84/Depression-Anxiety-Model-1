{
 "cells": [
  {
   "cell_type": "code",
   "execution_count": 1,
   "id": "399241e1",
   "metadata": {},
   "outputs": [
    {
     "name": "stdout",
     "output_type": "stream",
     "text": [
      "Dataset shape: (78, 402)\n",
      "Missing values in features: 0\n",
      "Missing values in target: 0\n",
      "Class distribution:\n",
      " phq8_binary\n",
      "1    40\n",
      "0    38\n",
      "Name: count, dtype: int64\n"
     ]
    }
   ],
   "source": [
    "import pandas as pd\n",
    "import numpy as np\n",
    "\n",
    "# Load dataset\n",
    "df = pd.read_csv(\"../EDA/final_features_with_labels.csv\")\n",
    "print(\"Dataset shape:\", df.shape)\n",
    "\n",
    "# Drop 'phq8_score' (we're doing classification now)\n",
    "df = df.drop(columns=['phq8_score'])\n",
    "\n",
    "# Separate features and target\n",
    "X = df.drop(columns=['participant_id', 'phq8_binary'])\n",
    "y = df['phq8_binary']\n",
    "\n",
    "# Check for missing values\n",
    "print(\"Missing values in features:\", X.isnull().sum().sum())\n",
    "print(\"Missing values in target:\", y.isnull().sum())\n",
    "\n",
    "# Check class distribution\n",
    "print(\"Class distribution:\\n\", y.value_counts())"
   ]
  },
  {
   "cell_type": "code",
   "execution_count": 2,
   "id": "db0c07e5",
   "metadata": {},
   "outputs": [
    {
     "name": "stdout",
     "output_type": "stream",
     "text": [
      "Train size: (62, 399)\n",
      "Test size: (16, 399)\n"
     ]
    }
   ],
   "source": [
    "from sklearn.model_selection import train_test_split\n",
    "\n",
    "# Stratified 80-20 split\n",
    "X_train, X_test, y_train, y_test = train_test_split(\n",
    "    X, y, test_size=0.2, stratify=y, random_state=42\n",
    ")\n",
    "\n",
    "print(\"Train size:\", X_train.shape)\n",
    "print(\"Test size:\", X_test.shape)"
   ]
  },
  {
   "cell_type": "code",
   "execution_count": 3,
   "id": "af7757bb",
   "metadata": {},
   "outputs": [],
   "source": [
    "from sklearn.preprocessing import StandardScaler\n",
    "\n",
    "# Identify embedding columns\n",
    "embed_cols = [col for col in X.columns if col.startswith(\"embed_\")]\n",
    "\n",
    "# Initialize scaler\n",
    "scaler = StandardScaler()\n",
    "\n",
    "# Fit on training set, transform both sets\n",
    "X_train[embed_cols] = scaler.fit_transform(X_train[embed_cols])\n",
    "X_test[embed_cols] = scaler.transform(X_test[embed_cols])"
   ]
  },
  {
   "cell_type": "markdown",
   "id": "d1791799",
   "metadata": {},
   "source": [
    "**Logistic Regression**\n",
    "Starting with simple model first"
   ]
  },
  {
   "cell_type": "code",
   "execution_count": 4,
   "id": "108fd871",
   "metadata": {},
   "outputs": [
    {
     "name": "stdout",
     "output_type": "stream",
     "text": [
      "Accuracy: 0.5625\n",
      "F1 Score: 0.5333333333333333\n",
      "ROC AUC Score: 0.671875\n",
      "\n",
      "Classification Report:\n",
      "               precision    recall  f1-score   support\n",
      "\n",
      "           0       0.56      0.62      0.59         8\n",
      "           1       0.57      0.50      0.53         8\n",
      "\n",
      "    accuracy                           0.56        16\n",
      "   macro avg       0.56      0.56      0.56        16\n",
      "weighted avg       0.56      0.56      0.56        16\n",
      "\n"
     ]
    },
    {
     "data": {
      "image/png": "[encoded data removed]",
      "text/plain": [
       "<Figure size 640x480 with 2 Axes>"
      ]
     },
     "metadata": {},
     "output_type": "display_data"
    }
   ],
   "source": [
    "from sklearn.linear_model import LogisticRegression\n",
    "from sklearn.metrics import accuracy_score, f1_score, roc_auc_score, confusion_matrix, classification_report\n",
    "import seaborn as sns\n",
    "import matplotlib.pyplot as plt\n",
    "\n",
    "# Initialize and train model\n",
    "lr_model = LogisticRegression(max_iter=1000, random_state=42)\n",
    "lr_model.fit(X_train, y_train)\n",
    "\n",
    "# Predictions\n",
    "y_pred = lr_model.predict(X_test)\n",
    "y_proba = lr_model.predict_proba(X_test)[:, 1]  # Probabilities for ROC-AUC\n",
    "\n",
    "# Evaluation\n",
    "print(\"Accuracy:\", accuracy_score(y_test, y_pred))\n",
    "print(\"F1 Score:\", f1_score(y_test, y_pred))\n",
    "print(\"ROC AUC Score:\", roc_auc_score(y_test, y_proba))\n",
    "print(\"\\nClassification Report:\\n\", classification_report(y_test, y_pred))\n",
    "\n",
    "# Confusion Matrix\n",
    "conf_matrix = confusion_matrix(y_test, y_pred)\n",
    "sns.heatmap(conf_matrix, annot=True, fmt='d', cmap='Blues')\n",
    "plt.xlabel(\"Predicted\")\n",
    "plt.ylabel(\"Actual\")\n",
    "plt.title(\"Logistic Regression - Confusion Matrix\")\n",
    "plt.show()\n"
   ]
  },
  {
   "cell_type": "markdown",
   "id": "d2d72dea",
   "metadata": {},
   "source": [
    "**Random Forest Classifier**"
   ]
  },
  {
   "cell_type": "code",
   "execution_count": 5,
   "id": "95b537e8",
   "metadata": {},
   "outputs": [
    {
     "name": "stdout",
     "output_type": "stream",
     "text": [
      "🔍 Accuracy: 0.3125\n",
      "🎯 F1 Score: 0.35294117647058826\n",
      "📈 ROC AUC Score: 0.421875\n",
      "\n",
      "📊 Classification Report:\n",
      "               precision    recall  f1-score   support\n",
      "\n",
      "           0       0.29      0.25      0.27         8\n",
      "           1       0.33      0.38      0.35         8\n",
      "\n",
      "    accuracy                           0.31        16\n",
      "   macro avg       0.31      0.31      0.31        16\n",
      "weighted avg       0.31      0.31      0.31        16\n",
      "\n",
      "🧱 Confusion Matrix:\n",
      " [[2 6]\n",
      " [5 3]]\n"
     ]
    }
   ],
   "source": [
    "from sklearn.ensemble import RandomForestClassifier\n",
    "from sklearn.metrics import accuracy_score, f1_score, roc_auc_score, classification_report, confusion_matrix\n",
    "\n",
    "# Initialize model\n",
    "rf = RandomForestClassifier(class_weight=\"balanced\", random_state=42)\n",
    "\n",
    "# Train the model\n",
    "rf.fit(X_train, y_train)\n",
    "\n",
    "# Predict\n",
    "y_pred = rf.predict(X_test)\n",
    "y_prob = rf.predict_proba(X_test)[:, 1]\n",
    "\n",
    "# Evaluation\n",
    "print(\"🔍 Accuracy:\", accuracy_score(y_test, y_pred))\n",
    "print(\"🎯 F1 Score:\", f1_score(y_test, y_pred))\n",
    "print(\"📈 ROC AUC Score:\", roc_auc_score(y_test, y_prob))\n",
    "print(\"\\n📊 Classification Report:\\n\", classification_report(y_test, y_pred))\n",
    "print(\"🧱 Confusion Matrix:\\n\", confusion_matrix(y_test, y_pred))"
   ]
  },
  {
   "cell_type": "markdown",
   "id": "905fb55e",
   "metadata": {},
   "source": [
    "**XG_Boost**"
   ]
  },
  {
   "cell_type": "code",
   "execution_count": 6,
   "id": "a2b2d5c6",
   "metadata": {},
   "outputs": [
    {
     "name": "stderr",
     "output_type": "stream",
     "text": [
      "c:\\Users\\hp\\Desktop\\anxiety-model\\venv\\Lib\\site-packages\\xgboost\\training.py:183: UserWarning: [09:43:51] WARNING: C:\\actions-runner\\_work\\xgboost\\xgboost\\src\\learner.cc:738: \n",
      "Parameters: { \"use_label_encoder\" } are not used.\n",
      "\n",
      "  bst.update(dtrain, iteration=i, fobj=obj)\n"
     ]
    },
    {
     "name": "stdout",
     "output_type": "stream",
     "text": [
      "Accuracy: 0.3125\n",
      "F1 Score: 0.26666666666666666\n",
      "\n",
      "Classification Report:\n",
      "               precision    recall  f1-score   support\n",
      "\n",
      "           0       0.33      0.38      0.35         8\n",
      "           1       0.29      0.25      0.27         8\n",
      "\n",
      "    accuracy                           0.31        16\n",
      "   macro avg       0.31      0.31      0.31        16\n",
      "weighted avg       0.31      0.31      0.31        16\n",
      "\n",
      "\n",
      "Confusion Matrix:\n",
      " [[3 5]\n",
      " [6 2]]\n"
     ]
    }
   ],
   "source": [
    "from xgboost import XGBClassifier\n",
    "from sklearn.metrics import classification_report, confusion_matrix, accuracy_score, f1_score\n",
    "\n",
    "# Create the XGBoost model\n",
    "model = XGBClassifier(\n",
    "    objective='binary:logistic',\n",
    "    eval_metric='logloss',\n",
    "    use_label_encoder=False,\n",
    "    random_state=42\n",
    ")\n",
    "\n",
    "# Fit on training data\n",
    "model.fit(X_train, y_train)\n",
    "\n",
    "# Predict on test data\n",
    "y_pred = model.predict(X_test)\n",
    "\n",
    "# Evaluate\n",
    "print(\"Accuracy:\", accuracy_score(y_test, y_pred))\n",
    "print(\"F1 Score:\", f1_score(y_test, y_pred))\n",
    "print(\"\\nClassification Report:\\n\", classification_report(y_test, y_pred))\n",
    "print(\"\\nConfusion Matrix:\\n\", confusion_matrix(y_test, y_pred))"
   ]
  },
  {
   "cell_type": "markdown",
   "id": "b1a99cf3",
   "metadata": {},
   "source": [
    "**Stratified K-fold**"
   ]
  },
  {
   "cell_type": "code",
   "execution_count": 7,
   "id": "7baa7162",
   "metadata": {},
   "outputs": [
    {
     "name": "stdout",
     "output_type": "stream",
     "text": [
      "\n",
      "📂 Fold 1\n",
      "Accuracy: 0.4375\n",
      "F1 Score: 0.47058823529411764\n",
      "              precision    recall  f1-score   support\n",
      "\n",
      "           0       0.43      0.38      0.40         8\n",
      "           1       0.44      0.50      0.47         8\n",
      "\n",
      "    accuracy                           0.44        16\n",
      "   macro avg       0.44      0.44      0.44        16\n",
      "weighted avg       0.44      0.44      0.44        16\n",
      "\n",
      "\n",
      "📂 Fold 2\n",
      "Accuracy: 0.625\n",
      "F1 Score: 0.5714285714285714\n",
      "              precision    recall  f1-score   support\n",
      "\n",
      "           0       0.60      0.75      0.67         8\n",
      "           1       0.67      0.50      0.57         8\n",
      "\n",
      "    accuracy                           0.62        16\n",
      "   macro avg       0.63      0.62      0.62        16\n",
      "weighted avg       0.63      0.62      0.62        16\n",
      "\n",
      "\n",
      "📂 Fold 3\n",
      "Accuracy: 0.5\n",
      "F1 Score: 0.42857142857142855\n",
      "              precision    recall  f1-score   support\n",
      "\n",
      "           0       0.50      0.62      0.56         8\n",
      "           1       0.50      0.38      0.43         8\n",
      "\n",
      "    accuracy                           0.50        16\n",
      "   macro avg       0.50      0.50      0.49        16\n",
      "weighted avg       0.50      0.50      0.49        16\n",
      "\n",
      "\n",
      "📂 Fold 4\n",
      "Accuracy: 0.4666666666666667\n",
      "F1 Score: 0.5555555555555556\n",
      "              precision    recall  f1-score   support\n",
      "\n",
      "           0       0.40      0.29      0.33         7\n",
      "           1       0.50      0.62      0.56         8\n",
      "\n",
      "    accuracy                           0.47        15\n",
      "   macro avg       0.45      0.46      0.44        15\n",
      "weighted avg       0.45      0.47      0.45        15\n",
      "\n",
      "\n",
      "📂 Fold 5\n",
      "Accuracy: 0.5333333333333333\n",
      "F1 Score: 0.36363636363636365\n",
      "              precision    recall  f1-score   support\n",
      "\n",
      "           0       0.50      0.86      0.63         7\n",
      "           1       0.67      0.25      0.36         8\n",
      "\n",
      "    accuracy                           0.53        15\n",
      "   macro avg       0.58      0.55      0.50        15\n",
      "weighted avg       0.59      0.53      0.49        15\n",
      "\n",
      "\n",
      "==============================\n",
      "🔥 Mean F1 Score: 0.4779560308972074\n",
      "✅ Mean Accuracy: 0.5125\n"
     ]
    }
   ],
   "source": [
    "from sklearn.model_selection import StratifiedKFold\n",
    "from sklearn.preprocessing import StandardScaler\n",
    "from sklearn.ensemble import RandomForestClassifier\n",
    "from sklearn.metrics import classification_report, f1_score, accuracy_score\n",
    "import numpy as np\n",
    "\n",
    "\n",
    "# Stratified K-Fold\n",
    "skf = StratifiedKFold(n_splits=5, shuffle=True, random_state=42)\n",
    "\n",
    "f1_scores = []\n",
    "accuracy_scores = []\n",
    "\n",
    "fold = 1\n",
    "for train_index, val_index in skf.split(X, y):\n",
    "    X_train_fold, X_val_fold = X.iloc[train_index], X.iloc[val_index]\n",
    "    y_train_fold, y_val_fold = y.iloc[train_index], y.iloc[val_index]\n",
    "    \n",
    "    # Scale inside fold\n",
    "    scaler = StandardScaler()\n",
    "    X_train_scaled = scaler.fit_transform(X_train_fold)\n",
    "    X_val_scaled = scaler.transform(X_val_fold)\n",
    "    \n",
    "    # Model\n",
    "    rf = RandomForestClassifier(class_weight=\"balanced\", random_state=42)\n",
    "    rf.fit(X_train_scaled, y_train_fold)\n",
    "    y_pred = rf.predict(X_val_scaled)\n",
    "    \n",
    "    # Metrics\n",
    "    f1 = f1_score(y_val_fold, y_pred)\n",
    "    acc = accuracy_score(y_val_fold, y_pred)\n",
    "    f1_scores.append(f1)\n",
    "    accuracy_scores.append(acc)\n",
    "    \n",
    "    print(f\"\\n📂 Fold {fold}\")\n",
    "    print(\"Accuracy:\", acc)\n",
    "    print(\"F1 Score:\", f1)\n",
    "    print(classification_report(y_val_fold, y_pred))\n",
    "    \n",
    "    fold += 1\n",
    "\n",
    "print(\"\\n==============================\")\n",
    "print(\"🔥 Mean F1 Score:\", np.mean(f1_scores))\n",
    "print(\"✅ Mean Accuracy:\", np.mean(accuracy_scores))\n"
   ]
  },
  {
   "cell_type": "code",
   "execution_count": null,
   "id": "b0fc9db6",
   "metadata": {},
   "outputs": [],
   "source": []
  }
 ],
 "metadata": {
  "kernelspec": {
   "display_name": "venv",
   "language": "python",
   "name": "python3"
  },
  "language_info": {
   "codemirror_mode": {
    "name": "ipython",
    "version": 3
   },
   "file_extension": ".py",
   "mimetype": "text/x-python",
   "name": "python",
   "nbconvert_exporter": "python",
   "pygments_lexer": "ipython3",
   "version": "3.13.1"
  }
 },
 "nbformat": 4,
 "nbformat_minor": 5
}
