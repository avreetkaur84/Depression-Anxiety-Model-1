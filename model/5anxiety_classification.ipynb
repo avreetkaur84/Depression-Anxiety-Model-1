{
 "cells": [
  {
   "cell_type": "code",
   "execution_count": 1,
   "id": "656526a2",
   "metadata": {},
   "outputs": [],
   "source": [
    "import pandas as pd\n",
    "import numpy as np\n",
    "from sklearn.model_selection import StratifiedKFold\n",
    "from sklearn.linear_model import LogisticRegression\n",
    "from sklearn.svm import SVC\n",
    "from sklearn.ensemble import VotingClassifier\n",
    "from sklearn.metrics import accuracy_score, f1_score\n",
    "\n",
    "# Load data\n",
    "df = pd.read_csv(\"../EDA/depressed_with_anxiety_labels.csv\")\n",
    "\n",
    "# Define target and features\n",
    "target = 'anxiety_binary'\n",
    "drop_cols = ['participant_id', 'anxiety_binary', 'anxiety_score', 'phq8_score', 'phq8_binary']  # exclude from modeling\n",
    "features = [col for col in df.columns if col not in drop_cols]\n",
    "\n",
    "X = df[features]\n",
    "y = df[target]"
   ]
  },
  {
   "cell_type": "code",
   "execution_count": 2,
   "id": "301f813c",
   "metadata": {},
   "outputs": [
    {
     "name": "stdout",
     "output_type": "stream",
     "text": [
      "🔍 5-Fold Cross-Validation Results\n",
      "\n",
      "📌 SVM (Linear)\n",
      "   ✅ Mean Accuracy: 0.8803\n",
      "   🎯 Mean F1 Score: 0.9045\n",
      "--------------------------------------------------\n",
      "📌 Logistic (L2)\n",
      "   ✅ Mean Accuracy: 0.8121\n",
      "   🎯 Mean F1 Score: 0.8639\n",
      "--------------------------------------------------\n",
      "📌 Voting Ensemble\n",
      "   ✅ Mean Accuracy: 0.8803\n",
      "   🎯 Mean F1 Score: 0.9045\n",
      "--------------------------------------------------\n"
     ]
    }
   ],
   "source": [
    "# Initialize models\n",
    "models = {\n",
    "    \"SVM (Linear)\": SVC(kernel='linear', probability=True, random_state=42),\n",
    "    \"Logistic (L2)\": LogisticRegression(penalty='l2', solver='liblinear', random_state=42),\n",
    "    \"Voting Ensemble\": VotingClassifier(\n",
    "        estimators=[\n",
    "            ('svm', SVC(kernel='linear', probability=True, random_state=42)),\n",
    "            ('logreg', LogisticRegression(penalty='l2', solver='liblinear', random_state=42))\n",
    "        ],\n",
    "        voting='soft'\n",
    "    )\n",
    "}\n",
    "\n",
    "# 5-Fold Stratified CV\n",
    "kf = StratifiedKFold(n_splits=5, shuffle=True, random_state=42)\n",
    "\n",
    "print(\"🔍 5-Fold Cross-Validation Results\\n\")\n",
    "for name, model in models.items():\n",
    "    acc_scores = []\n",
    "    f1_scores = []\n",
    "\n",
    "    for train_index, test_index in kf.split(X, y):\n",
    "        X_train, X_test = X.iloc[train_index], X.iloc[test_index]\n",
    "        y_train, y_test = y.iloc[train_index], y.iloc[test_index]\n",
    "\n",
    "        model.fit(X_train, y_train)\n",
    "        y_pred = model.predict(X_test)\n",
    "\n",
    "        acc_scores.append(accuracy_score(y_test, y_pred))\n",
    "        f1_scores.append(f1_score(y_test, y_pred))\n",
    "\n",
    "    print(f\"📌 {name}\")\n",
    "    print(f\"   ✅ Mean Accuracy: {np.mean(acc_scores):.4f}\")\n",
    "    print(f\"   🎯 Mean F1 Score: {np.mean(f1_scores):.4f}\")\n",
    "    print(\"--------------------------------------------------\")\n"
   ]
  }
 ],
 "metadata": {
  "kernelspec": {
   "display_name": "venv",
   "language": "python",
   "name": "python3"
  },
  "language_info": {
   "codemirror_mode": {
    "name": "ipython",
    "version": 3
   },
   "file_extension": ".py",
   "mimetype": "text/x-python",
   "name": "python",
   "nbconvert_exporter": "python",
   "pygments_lexer": "ipython3",
   "version": "3.13.1"
  }
 },
 "nbformat": 4,
 "nbformat_minor": 5
}
